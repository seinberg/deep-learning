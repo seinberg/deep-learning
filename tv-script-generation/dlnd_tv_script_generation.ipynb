{
 "cells": [
  {
   "cell_type": "markdown",
   "metadata": {
    "deletable": true,
    "editable": true
   },
   "source": [
    "# TV Script Generation\n",
    "In this project, you'll generate your own [Simpsons](https://en.wikipedia.org/wiki/The_Simpsons) TV scripts using RNNs.  You'll be using part of the [Simpsons dataset](https://www.kaggle.com/wcukierski/the-simpsons-by-the-data) of scripts from 27 seasons.  The Neural Network you'll build will generate a new TV script for a scene at [Moe's Tavern](https://simpsonswiki.com/wiki/Moe's_Tavern).\n",
    "## Get the Data\n",
    "The data is already provided for you.  You'll be using a subset of the original dataset.  It consists of only the scenes in Moe's Tavern.  This doesn't include other versions of the tavern, like \"Moe's Cavern\", \"Flaming Moe's\", \"Uncle Moe's Family Feed-Bag\", etc.."
   ]
  },
  {
   "cell_type": "code",
   "execution_count": 62,
   "metadata": {
    "collapsed": false,
    "deletable": true,
    "editable": true
   },
   "outputs": [],
   "source": [
    "\"\"\"\n",
    "DON'T MODIFY ANYTHING IN THIS CELL\n",
    "\"\"\"\n",
    "import helper\n",
    "import random\n",
    "\n",
    "data_dir = './data/simpsons/moes_tavern_lines.txt'\n",
    "#data_dir = './data/all/simpsons_all.csv'\n",
    "#data_dir = './data/all/simpsons_norm_names_all.csv'\n",
    "text = helper.load_data(data_dir)\n",
    "# Ignore notice, since we don't use it for analysing the data\n",
    "text = text[81:]"
   ]
  },
  {
   "cell_type": "markdown",
   "metadata": {
    "deletable": true,
    "editable": true
   },
   "source": [
    "## Explore the Data\n",
    "Play around with `view_sentence_range` to view different parts of the data."
   ]
  },
  {
   "cell_type": "code",
   "execution_count": 63,
   "metadata": {
    "collapsed": false,
    "deletable": true,
    "editable": true
   },
   "outputs": [
    {
     "name": "stdout",
     "output_type": "stream",
     "text": [
      "Dataset Stats\n",
      "Roughly the number of unique words: 11492\n",
      "Number of scenes: 262\n",
      "Average number of sentences in each scene: 15.248091603053435\n",
      "Number of lines: 4257\n",
      "Average number of words in each line: 11.50434578341555\n",
      "\n",
      "The sentences 0 to 10:\n",
      "Moe_Szyslak: (INTO PHONE) Moe's Tavern. Where the elite meet to drink.\n",
      "Bart_Simpson: Eh, yeah, hello, is Mike there? Last name, Rotch.\n",
      "Moe_Szyslak: (INTO PHONE) Hold on, I'll check. (TO BARFLIES) Mike Rotch. Mike Rotch. Hey, has anybody seen Mike Rotch, lately?\n",
      "Moe_Szyslak: (INTO PHONE) Listen you little puke. One of these days I'm gonna catch you, and I'm gonna carve my name on your back with an ice pick.\n",
      "Moe_Szyslak: What's the matter Homer? You're not your normal effervescent self.\n",
      "Homer_Simpson: I got my problems, Moe. Give me another one.\n",
      "Moe_Szyslak: Homer, hey, you should not drink to forget your problems.\n",
      "Barney_Gumble: Yeah, you should only drink to enhance your social skills.\n",
      "\n",
      "\n"
     ]
    }
   ],
   "source": [
    "view_sentence_range = (0, 10)\n",
    "\n",
    "\"\"\"\n",
    "DON'T MODIFY ANYTHING IN THIS CELL\n",
    "\"\"\"\n",
    "import numpy as np\n",
    "\n",
    "print('Dataset Stats')\n",
    "print('Roughly the number of unique words: {}'.format(len({word: None for word in text.split()})))\n",
    "scenes = text.split('\\n\\n')\n",
    "print('Number of scenes: {}'.format(len(scenes)))\n",
    "sentence_count_scene = [scene.count('\\n') for scene in scenes]\n",
    "print('Average number of sentences in each scene: {}'.format(np.average(sentence_count_scene)))\n",
    "\n",
    "sentences = [sentence for scene in scenes for sentence in scene.split('\\n')]\n",
    "print('Number of lines: {}'.format(len(sentences)))\n",
    "word_count_sentence = [len(sentence.split()) for sentence in sentences]\n",
    "print('Average number of words in each line: {}'.format(np.average(word_count_sentence)))\n",
    "\n",
    "print()\n",
    "print('The sentences {} to {}:'.format(*view_sentence_range))\n",
    "print('\\n'.join(text.split('\\n')[view_sentence_range[0]:view_sentence_range[1]]))"
   ]
  },
  {
   "cell_type": "markdown",
   "metadata": {
    "deletable": true,
    "editable": true
   },
   "source": [
    "## Implement Preprocessing Functions\n",
    "The first thing to do to any dataset is preprocessing.  Implement the following preprocessing functions below:\n",
    "- Lookup Table\n",
    "- Tokenize Punctuation\n",
    "\n",
    "### Lookup Table\n",
    "To create a word embedding, you first need to transform the words to ids.  In this function, create two dictionaries:\n",
    "- Dictionary to go from the words to an id, we'll call `vocab_to_int`\n",
    "- Dictionary to go from the id to word, we'll call `int_to_vocab`\n",
    "\n",
    "Return these dictionaries in the following tuple `(vocab_to_int, int_to_vocab)`"
   ]
  },
  {
   "cell_type": "code",
   "execution_count": 65,
   "metadata": {
    "collapsed": false,
    "deletable": true,
    "editable": true
   },
   "outputs": [
    {
     "name": "stdout",
     "output_type": "stream",
     "text": [
      "Tests Passed\n"
     ]
    }
   ],
   "source": [
    "import numpy as np\n",
    "from collections import Counter\n",
    "import problem_unittests as tests\n",
    "\n",
    "def create_lookup_tables(text):\n",
    "    \"\"\"\n",
    "    Create lookup tables for vocabulary\n",
    "    :param text: The text of tv scripts split into words\n",
    "    :return: A tuple of dicts (vocab_to_int, int_to_vocab)\n",
    "    \"\"\"\n",
    "    words = text\n",
    "    word_counts = Counter(words)\n",
    "    sorted_vocab = sorted(word_counts, key=word_counts.get, reverse=True)\n",
    "    int_to_vocab = {ii: word for ii, word in enumerate(sorted_vocab)}\n",
    "    vocab_to_int = {word: ii for ii, word in int_to_vocab.items()}\n",
    "\n",
    "    return vocab_to_int, int_to_vocab\n",
    "\n",
    "\"\"\"\n",
    "DON'T MODIFY ANYTHING IN THIS CELL THAT IS BELOW THIS LINE\n",
    "\"\"\"\n",
    "tests.test_create_lookup_tables(create_lookup_tables)"
   ]
  },
  {
   "cell_type": "markdown",
   "metadata": {
    "deletable": true,
    "editable": true
   },
   "source": [
    "### Tokenize Punctuation\n",
    "We'll be splitting the script into a word array using spaces as delimiters.  However, punctuations like periods and exclamation marks make it hard for the neural network to distinguish between the word \"bye\" and \"bye!\".\n",
    "\n",
    "Implement the function `token_lookup` to return a dict that will be used to tokenize symbols like \"!\" into \"||Exclamation_Mark||\".  Create a dictionary for the following symbols where the symbol is the key and value is the token:\n",
    "- Period ( . )\n",
    "- Comma ( , )\n",
    "- Quotation Mark ( \" )\n",
    "- Semicolon ( ; )\n",
    "- Exclamation mark ( ! )\n",
    "- Question mark ( ? )\n",
    "- Left Parentheses ( ( )\n",
    "- Right Parentheses ( ) )\n",
    "- Dash ( -- )\n",
    "- Return ( \\n )\n",
    "\n",
    "This dictionary will be used to token the symbols and add the delimiter (space) around it.  This separates the symbols as it's own word, making it easier for the neural network to predict on the next word. Make sure you don't use a token that could be confused as a word. Instead of using the token \"dash\", try using something like \"||dash||\"."
   ]
  },
  {
   "cell_type": "code",
   "execution_count": 66,
   "metadata": {
    "collapsed": false,
    "deletable": true,
    "editable": true
   },
   "outputs": [
    {
     "name": "stdout",
     "output_type": "stream",
     "text": [
      "Tests Passed\n"
     ]
    }
   ],
   "source": [
    "def token_lookup():\n",
    "    \"\"\"\n",
    "    Generate a dict to turn punctuation into a token.\n",
    "    :return: Tokenize dictionary where the key is the punctuation and the value is the token\n",
    "    \"\"\"\n",
    "    return {\n",
    "        '.': '__period__',\n",
    "        ',': '__comma__',\n",
    "        '\"': '__double_quote__',\n",
    "        ';': '__semi-colon__',\n",
    "        '!': '__exclamation__',\n",
    "        '?': '__question__',\n",
    "        '(': '__open_paren__',\n",
    "        ')': '__close_paren__',\n",
    "        '--': '__dash__',\n",
    "        '\\n': '__endline__'\n",
    "    }\n",
    "\n",
    "\"\"\"\n",
    "DON'T MODIFY ANYTHING IN THIS CELL THAT IS BELOW THIS LINE\n",
    "\"\"\"\n",
    "tests.test_tokenize(token_lookup)"
   ]
  },
  {
   "cell_type": "markdown",
   "metadata": {
    "deletable": true,
    "editable": true
   },
   "source": [
    "## Preprocess all the data and save it\n",
    "Running the code cell below will preprocess all the data and save it to file."
   ]
  },
  {
   "cell_type": "code",
   "execution_count": 67,
   "metadata": {
    "collapsed": false,
    "deletable": true,
    "editable": true
   },
   "outputs": [],
   "source": [
    "\"\"\"\n",
    "DON'T MODIFY ANYTHING IN THIS CELL\n",
    "\"\"\"\n",
    "# Preprocess Training, Validation, and Testing Data\n",
    "helper.preprocess_and_save_data(data_dir, token_lookup, create_lookup_tables)"
   ]
  },
  {
   "cell_type": "markdown",
   "metadata": {
    "deletable": true,
    "editable": true
   },
   "source": [
    "# Check Point\n",
    "This is your first checkpoint. If you ever decide to come back to this notebook or have to restart the notebook, you can start from here. The preprocessed data has been saved to disk."
   ]
  },
  {
   "cell_type": "code",
   "execution_count": 68,
   "metadata": {
    "collapsed": false,
    "deletable": true,
    "editable": true
   },
   "outputs": [],
   "source": [
    "\"\"\"\n",
    "DON'T MODIFY ANYTHING IN THIS CELL\n",
    "\"\"\"\n",
    "import helper\n",
    "import numpy as np\n",
    "import problem_unittests as tests\n",
    "\n",
    "int_text, vocab_to_int, int_to_vocab, token_dict = helper.load_preprocess()"
   ]
  },
  {
   "cell_type": "markdown",
   "metadata": {
    "deletable": true,
    "editable": true
   },
   "source": [
    "## Build the Neural Network\n",
    "You'll build the components necessary to build a RNN by implementing the following functions below:\n",
    "- get_inputs\n",
    "- get_init_cell\n",
    "- get_embed\n",
    "- build_rnn\n",
    "- build_nn\n",
    "- get_batches\n",
    "\n",
    "### Check the Version of TensorFlow and Access to GPU"
   ]
  },
  {
   "cell_type": "code",
   "execution_count": 69,
   "metadata": {
    "collapsed": false,
    "deletable": true,
    "editable": true
   },
   "outputs": [
    {
     "name": "stdout",
     "output_type": "stream",
     "text": [
      "TensorFlow Version: 1.0.1\n",
      "Default GPU Device: /gpu:0\n"
     ]
    }
   ],
   "source": [
    "\"\"\"\n",
    "DON'T MODIFY ANYTHING IN THIS CELL\n",
    "\"\"\"\n",
    "from distutils.version import LooseVersion\n",
    "import warnings\n",
    "import tensorflow as tf\n",
    "\n",
    "# Check TensorFlow Version\n",
    "assert LooseVersion(tf.__version__) >= LooseVersion('1.0'), 'Please use TensorFlow version 1.0 or newer'\n",
    "print('TensorFlow Version: {}'.format(tf.__version__))\n",
    "\n",
    "# Check for a GPU\n",
    "if not tf.test.gpu_device_name():\n",
    "    warnings.warn('No GPU found. Please use a GPU to train your neural network.')\n",
    "else:\n",
    "    print('Default GPU Device: {}'.format(tf.test.gpu_device_name()))"
   ]
  },
  {
   "cell_type": "markdown",
   "metadata": {
    "deletable": true,
    "editable": true
   },
   "source": [
    "### Input\n",
    "Implement the `get_inputs()` function to create TF Placeholders for the Neural Network.  It should create the following placeholders:\n",
    "- Input text placeholder named \"input\" using the [TF Placeholder](https://www.tensorflow.org/api_docs/python/tf/placeholder) `name` parameter.\n",
    "- Targets placeholder\n",
    "- Learning Rate placeholder\n",
    "\n",
    "Return the placeholders in the following the tuple `(Input, Targets, LearingRate)`"
   ]
  },
  {
   "cell_type": "code",
   "execution_count": 70,
   "metadata": {
    "collapsed": false,
    "deletable": true,
    "editable": true
   },
   "outputs": [
    {
     "name": "stdout",
     "output_type": "stream",
     "text": [
      "Tests Passed\n"
     ]
    }
   ],
   "source": [
    "def get_inputs():\n",
    "    \"\"\"\n",
    "    Create TF Placeholders for input, targets, and learning rate.\n",
    "    :return: Tuple (input, targets, learning rate)\n",
    "    \"\"\"\n",
    "    input_test = tf.placeholder(tf.int32, [None, None], name='input')\n",
    "    targets = tf.placeholder(tf.int32, [None, None], name='targets')\n",
    "    learning_rate = tf.placeholder(tf.float32, name='learning_rate')\n",
    "    return input_test, targets, learning_rate\n",
    "\n",
    "\n",
    "\"\"\"\n",
    "DON'T MODIFY ANYTHING IN THIS CELL THAT IS BELOW THIS LINE\n",
    "\"\"\"\n",
    "tests.test_get_inputs(get_inputs)"
   ]
  },
  {
   "cell_type": "markdown",
   "metadata": {
    "deletable": true,
    "editable": true
   },
   "source": [
    "### Build RNN Cell and Initialize\n",
    "Stack one or more [`BasicLSTMCells`](https://www.tensorflow.org/api_docs/python/tf/contrib/rnn/BasicLSTMCell) in a [`MultiRNNCell`](https://www.tensorflow.org/api_docs/python/tf/contrib/rnn/MultiRNNCell).\n",
    "- The Rnn size should be set using `rnn_size`\n",
    "- Initalize Cell State using the MultiRNNCell's [`zero_state()`](https://www.tensorflow.org/api_docs/python/tf/contrib/rnn/MultiRNNCell#zero_state) function\n",
    "    - Apply the name \"initial_state\" to the initial state using [`tf.identity()`](https://www.tensorflow.org/api_docs/python/tf/identity)\n",
    "\n",
    "Return the cell and initial state in the following tuple `(Cell, InitialState)`"
   ]
  },
  {
   "cell_type": "code",
   "execution_count": 71,
   "metadata": {
    "collapsed": false,
    "deletable": true,
    "editable": true
   },
   "outputs": [
    {
     "name": "stdout",
     "output_type": "stream",
     "text": [
      "Tests Passed\n"
     ]
    }
   ],
   "source": [
    "def get_init_cell(batch_size, rnn_size, lstm_layers=1, keep_prob=1.0):\n",
    "    \"\"\"\n",
    "    Create an RNN Cell and initialize it.\n",
    "    :param batch_size: Size of batches\n",
    "    :param rnn_size: Size of RNNs\n",
    "    :param lstm_layers: Number of layers to apply to LSTM\n",
    "    :param keep_prob: Dropout keep probability for cell\n",
    "    :return: Tuple (cell, initialize state)\n",
    "    \"\"\"\n",
    "    # A basic LSTM cell\n",
    "    lstm = tf.contrib.rnn.BasicLSTMCell(rnn_size)\n",
    "\n",
    "    # Add dropout to the cell\n",
    "    dropout_wrapper = tf.contrib.rnn.DropoutWrapper(lstm, output_keep_prob=keep_prob)\n",
    "\n",
    "    # Stack up multiple LSTM layers, for deep learning\n",
    "    cell = tf.contrib.rnn.MultiRNNCell([dropout_wrapper] * lstm_layers)\n",
    "    \n",
    "    # Getting an initial state of all zeros\n",
    "    initial_state = tf.identity(cell.zero_state(batch_size, tf.float32), 'initial_state')\n",
    "    return cell, initial_state\n",
    "\n",
    "\"\"\"\n",
    "DON'T MODIFY ANYTHING IN THIS CELL THAT IS BELOW THIS LINE\n",
    "\"\"\"\n",
    "tests.test_get_init_cell(get_init_cell)"
   ]
  },
  {
   "cell_type": "markdown",
   "metadata": {
    "deletable": true,
    "editable": true
   },
   "source": [
    "### Word Embedding\n",
    "Apply embedding to `input_data` using TensorFlow.  Return the embedded sequence."
   ]
  },
  {
   "cell_type": "code",
   "execution_count": 20,
   "metadata": {
    "collapsed": false,
    "deletable": true,
    "editable": true
   },
   "outputs": [
    {
     "name": "stdout",
     "output_type": "stream",
     "text": [
      "Tests Passed\n"
     ]
    }
   ],
   "source": [
    "def get_embed(input_data, vocab_size, embed_dim):\n",
    "    \"\"\"\n",
    "    Create embedding for <input_data>.\n",
    "    :param input_data: TF placeholder for text input.\n",
    "    :param vocab_size: Number of words in vocabulary.\n",
    "    :param embed_dim: Number of embedding dimensions\n",
    "    :return: Embedded input.\n",
    "    \"\"\"\n",
    "    #embedding = tf.Variable(tf.random_uniform((vocab_size, embed_dim), -1, 1))\n",
    "    #embed = tf.nn.embedding_lookup(embedding, input_data)\n",
    "    #return embed\n",
    "    # consider using:\n",
    "    return tf.contrib.layers.embed_sequence(\n",
    "        input_data, vocab_size=vocab_size, embed_dim=embed_dim)\n",
    "\n",
    "\"\"\"\n",
    "DON'T MODIFY ANYTHING IN THIS CELL THAT IS BELOW THIS LINE\n",
    "\"\"\"\n",
    "tests.test_get_embed(get_embed)"
   ]
  },
  {
   "cell_type": "markdown",
   "metadata": {
    "deletable": true,
    "editable": true
   },
   "source": [
    "### Build RNN\n",
    "You created a RNN Cell in the `get_init_cell()` function.  Time to use the cell to create a RNN.\n",
    "- Build the RNN using the [`tf.nn.dynamic_rnn()`](https://www.tensorflow.org/api_docs/python/tf/nn/dynamic_rnn)\n",
    " - Apply the name \"final_state\" to the final state using [`tf.identity()`](https://www.tensorflow.org/api_docs/python/tf/identity)\n",
    "\n",
    "Return the outputs and final_state state in the following tuple `(Outputs, FinalState)` "
   ]
  },
  {
   "cell_type": "code",
   "execution_count": 72,
   "metadata": {
    "collapsed": false,
    "deletable": true,
    "editable": true
   },
   "outputs": [
    {
     "name": "stdout",
     "output_type": "stream",
     "text": [
      "Tests Passed\n"
     ]
    }
   ],
   "source": [
    "def build_rnn(cell, inputs):\n",
    "    \"\"\"\n",
    "    Create a RNN using a RNN Cell\n",
    "    :param cell: RNN Cell\n",
    "    :param inputs: Input text data\n",
    "    :return: Tuple (Outputs, Final State)\n",
    "    \"\"\"\n",
    "    # note: third argument is placeholder for initial_state\n",
    "    outputs, final_state = tf.nn.dynamic_rnn(\n",
    "        cell=cell, inputs=inputs, dtype=tf.float32)\n",
    "    final_state = tf.identity(final_state, 'final_state')\n",
    "    return outputs, final_state\n",
    "\n",
    "\"\"\"\n",
    "DON'T MODIFY ANYTHING IN THIS CELL THAT IS BELOW THIS LINE\n",
    "\"\"\"\n",
    "tests.test_build_rnn(build_rnn)"
   ]
  },
  {
   "cell_type": "markdown",
   "metadata": {
    "deletable": true,
    "editable": true
   },
   "source": [
    "### Build the Neural Network\n",
    "Apply the functions you implemented above to:\n",
    "- Apply embedding to `input_data` using your `get_embed(input_data, vocab_size, embed_dim)` function.\n",
    "- Build RNN using `cell` and your `build_rnn(cell, inputs)` function.\n",
    "- Apply a fully connected layer with a linear activation and `vocab_size` as the number of outputs.\n",
    "\n",
    "Return the logits and final state in the following tuple (Logits, FinalState) "
   ]
  },
  {
   "cell_type": "code",
   "execution_count": 74,
   "metadata": {
    "collapsed": false,
    "deletable": true,
    "editable": true
   },
   "outputs": [
    {
     "name": "stdout",
     "output_type": "stream",
     "text": [
      "Tests Passed\n"
     ]
    }
   ],
   "source": [
    "def build_nn(cell, embed_dim, input_data, vocab_size):\n",
    "    \"\"\"\n",
    "    Build part of the neural network\n",
    "    :param cell: RNN cell\n",
    "    :param embed_dim: Size of word embeddings to use\n",
    "    :param input_data: Input data\n",
    "    :param vocab_size: Vocabulary size\n",
    "    :return: Tuple (Logits, FinalState)\n",
    "    \"\"\"\n",
    "    embedding = get_embed(input_data, vocab_size, embed_dim)\n",
    "    lstm_outputs, final_state = build_rnn(cell, embedding)\n",
    "\n",
    "    logits = tf.contrib.layers.fully_connected(\n",
    "        lstm_outputs,\n",
    "        vocab_size,\n",
    "        weights_initializer=tf.truncated_normal_initializer(stddev=0.1),\n",
    "        biases_initializer=tf.zeros_initializer(),\n",
    "        activation_fn=None)\n",
    "\n",
    "    return logits, final_state\n",
    "\n",
    "\n",
    "\"\"\"\n",
    "DON'T MODIFY ANYTHING IN THIS CELL THAT IS BELOW THIS LINE\n",
    "\"\"\"\n",
    "tests.test_build_nn(build_nn)"
   ]
  },
  {
   "cell_type": "markdown",
   "metadata": {
    "deletable": true,
    "editable": true
   },
   "source": [
    "### Batches\n",
    "Implement `get_batches` to create batches of input and targets using `int_text`.  The batches should be a Numpy array with the shape `(number of batches, 2, batch size, sequence length)`. Each batch contains two elements:\n",
    "- The first element is a single batch of **input** with the shape `[batch size, sequence length]`\n",
    "- The second element is a single batch of **targets** with the shape `[batch size, sequence length]`\n",
    "\n",
    "If you can't fill the last batch with enough data, drop the last batch.\n",
    "\n",
    "For exmple, `get_batches([1, 2, 3, 4, 5, 6, 7, 8, 9, 10, 11, 12, 13, 14, 15], 2, 3)` would return a Numpy array of the following:\n",
    "```\n",
    "[\n",
    "  # First Batch\n",
    "  [\n",
    "    # Batch of Input\n",
    "    [[ 1  2  3], [ 7  8  9]],\n",
    "    # Batch of targets\n",
    "    [[ 2  3  4], [ 8  9 10]]\n",
    "  ],\n",
    " \n",
    "  # Second Batch\n",
    "  [\n",
    "    # Batch of Input\n",
    "    [[ 4  5  6], [10 11 12]],\n",
    "    # Batch of targets\n",
    "    [[ 5  6  7], [11 12 13]]\n",
    "  ]\n",
    "]\n",
    "```"
   ]
  },
  {
   "cell_type": "code",
   "execution_count": 75,
   "metadata": {
    "collapsed": false,
    "deletable": true,
    "editable": true
   },
   "outputs": [
    {
     "name": "stdout",
     "output_type": "stream",
     "text": [
      "Tests Passed\n"
     ]
    }
   ],
   "source": [
    "def get_batches(int_text, batch_size, seq_length):\n",
    "    \"\"\"\n",
    "    Return batches of input and target\n",
    "    :param int_text: Text with the words replaced by their ids\n",
    "    :param batch_size: The size of batch\n",
    "    :param seq_length: The length of sequence\n",
    "    :return: Batches as a Numpy array\n",
    "    \"\"\"\n",
    "    n_batches = (len(int_text)-1)//(batch_size * seq_length)    \n",
    "    int_text = int_text[:n_batches * batch_size * seq_length + 1]\n",
    "\n",
    "    int_text_input_seq = [int_text[i*seq_length:i*seq_length+seq_length] for i in range(0, n_batches * batch_size)]\n",
    "    int_text = int_text[1:]\n",
    "    int_text_output = [int_text[i*seq_length:i*seq_length+seq_length] for i in range(0, n_batches * batch_size)]\n",
    "\n",
    "    all_data = []\n",
    "    for row in range(n_batches):\n",
    "        input_cols = []\n",
    "        target_cols = []\n",
    "        for col in range(batch_size):\n",
    "            input_cols.append(int_text_input_seq[col * n_batches + row])\n",
    "            target_cols.append(int_text_output[col * n_batches + row])\n",
    "        all_data.append([input_cols, target_cols])\n",
    "\n",
    "    return np.array(all_data)\n",
    "\n",
    "\"\"\"\n",
    "DON'T MODIFY ANYTHING IN THIS CELL THAT IS BELOW THIS LINE\n",
    "\"\"\"\n",
    "tests.test_get_batches(get_batches)"
   ]
  },
  {
   "cell_type": "markdown",
   "metadata": {
    "deletable": true,
    "editable": true
   },
   "source": [
    "## Neural Network Training\n",
    "### Hyperparameters\n",
    "Tune the following parameters:\n",
    "\n",
    "- Set `num_epochs` to the number of epochs.\n",
    "- Set `batch_size` to the batch size.\n",
    "- Set `rnn_size` to the size of the RNNs.\n",
    "- Set `embed_dim` to the size of the text word embeddings.\n",
    "- Set `seq_length` to the length of sequence.\n",
    "- Set `learning_rate` to the learning rate.\n",
    "- Set `show_every_n_batches` to the number of batches the neural network should print progress."
   ]
  },
  {
   "cell_type": "code",
   "execution_count": 97,
   "metadata": {
    "collapsed": true,
    "deletable": true,
    "editable": true
   },
   "outputs": [],
   "source": [
    "# reminder: tune hyper params according to advice at\n",
    "# check out https://nd101.slack.com/messages/C3PJV4741/convo/C3PJV4741-1490412688.590254/\n",
    "\n",
    "\n",
    "# Number of Epochs\n",
    "num_epochs = 100\n",
    "# Batch Size\n",
    "batch_size = 75\n",
    "# RNN Size\n",
    "rnn_size = 512\n",
    "# Number of embedding dimensions\n",
    "embed_dim = 300\n",
    "# Sequence Length\n",
    "seq_length = 15\n",
    "# Learning Rate\n",
    "learning_rate = 0.005\n",
    "# Show stats for every n number of batches\n",
    "show_every_n_batches = 25\n",
    "keep_prob = 1.0\n",
    "lstm_layers = 2\n",
    "\n",
    "\"\"\"\n",
    "DON'T MODIFY ANYTHING IN THIS CELL THAT IS BELOW THIS LINE\n",
    "\"\"\"\n",
    "save_dir = './save'"
   ]
  },
  {
   "cell_type": "markdown",
   "metadata": {
    "deletable": true,
    "editable": true
   },
   "source": [
    "### Build the Graph\n",
    "Build the graph using the neural network you implemented."
   ]
  },
  {
   "cell_type": "code",
   "execution_count": 98,
   "metadata": {
    "collapsed": false,
    "deletable": true,
    "editable": true
   },
   "outputs": [],
   "source": [
    "\"\"\"\n",
    "DON'T MODIFY ANYTHING IN THIS CELL\n",
    "\"\"\"\n",
    "from tensorflow.contrib import seq2seq\n",
    "\n",
    "train_graph = tf.Graph()\n",
    "with train_graph.as_default():\n",
    "    vocab_size = len(int_to_vocab)\n",
    "    input_text, targets, lr = get_inputs()\n",
    "    input_data_shape = tf.shape(input_text)\n",
    "    cell, initial_state = get_init_cell(input_data_shape[0], rnn_size, lstm_layers=lstm_layers, keep_prob=keep_prob)\n",
    "    logits, final_state = build_nn(cell, embed_dim, input_text, vocab_size)\n",
    "\n",
    "    # Probabilities for generating words\n",
    "    probs = tf.nn.softmax(logits, name='probs')\n",
    "\n",
    "    # Loss function\n",
    "    cost = seq2seq.sequence_loss(\n",
    "        logits,\n",
    "        targets,\n",
    "        tf.ones([input_data_shape[0], input_data_shape[1]]))\n",
    "\n",
    "    # Optimizer\n",
    "    optimizer = tf.train.AdamOptimizer(lr)\n",
    "\n",
    "    # Gradient Clipping\n",
    "    gradients = optimizer.compute_gradients(cost)\n",
    "    capped_gradients = [(tf.clip_by_value(grad, -1., 1.), var) for grad, var in gradients]\n",
    "    train_op = optimizer.apply_gradients(capped_gradients)"
   ]
  },
  {
   "cell_type": "markdown",
   "metadata": {
    "deletable": true,
    "editable": true
   },
   "source": [
    "## Train\n",
    "Train the neural network on the preprocessed data.  If you have a hard time getting a good loss, check the [forms](https://discussions.udacity.com/) to see if anyone is having the same problem."
   ]
  },
  {
   "cell_type": "code",
   "execution_count": 99,
   "metadata": {
    "collapsed": false,
    "deletable": true,
    "editable": true,
    "scrolled": true
   },
   "outputs": [
    {
     "name": "stdout",
     "output_type": "stream",
     "text": [
      "Epoch   0 Batch    0/61   train_loss = 8.821\n",
      "Epoch   0 Batch   25/61   train_loss = 5.823\n",
      "Epoch   0 Batch   50/61   train_loss = 5.322\n",
      "Epoch   1 Batch   14/61   train_loss = 5.183\n",
      "Epoch   1 Batch   39/61   train_loss = 4.959\n",
      "Epoch   2 Batch    3/61   train_loss = 4.733\n",
      "Epoch   2 Batch   28/61   train_loss = 4.476\n",
      "Epoch   2 Batch   53/61   train_loss = 4.368\n",
      "Epoch   3 Batch   17/61   train_loss = 4.253\n",
      "Epoch   3 Batch   42/61   train_loss = 4.119\n",
      "Epoch   4 Batch    6/61   train_loss = 4.059\n",
      "Epoch   4 Batch   31/61   train_loss = 3.740\n",
      "Epoch   4 Batch   56/61   train_loss = 3.696\n",
      "Epoch   5 Batch   20/61   train_loss = 3.601\n",
      "Epoch   5 Batch   45/61   train_loss = 3.454\n",
      "Epoch   6 Batch    9/61   train_loss = 3.448\n",
      "Epoch   6 Batch   34/61   train_loss = 3.262\n",
      "Epoch   6 Batch   59/61   train_loss = 3.211\n",
      "Epoch   7 Batch   23/61   train_loss = 3.117\n",
      "Epoch   7 Batch   48/61   train_loss = 2.856\n",
      "Epoch   8 Batch   12/61   train_loss = 2.962\n",
      "Epoch   8 Batch   37/61   train_loss = 2.873\n",
      "Epoch   9 Batch    1/61   train_loss = 2.872\n",
      "Epoch   9 Batch   26/61   train_loss = 2.612\n",
      "Epoch   9 Batch   51/61   train_loss = 2.649\n",
      "Epoch  10 Batch   15/61   train_loss = 2.549\n",
      "Epoch  10 Batch   40/61   train_loss = 2.404\n",
      "Epoch  11 Batch    4/61   train_loss = 2.454\n",
      "Epoch  11 Batch   29/61   train_loss = 2.290\n",
      "Epoch  11 Batch   54/61   train_loss = 2.058\n",
      "Epoch  12 Batch   18/61   train_loss = 2.098\n",
      "Epoch  12 Batch   43/61   train_loss = 1.844\n",
      "Epoch  13 Batch    7/61   train_loss = 1.788\n",
      "Epoch  13 Batch   32/61   train_loss = 1.774\n",
      "Epoch  13 Batch   57/61   train_loss = 1.628\n",
      "Epoch  14 Batch   21/61   train_loss = 1.383\n",
      "Epoch  14 Batch   46/61   train_loss = 1.312\n",
      "Epoch  15 Batch   10/61   train_loss = 1.231\n",
      "Epoch  15 Batch   35/61   train_loss = 1.144\n",
      "Epoch  15 Batch   60/61   train_loss = 1.011\n",
      "Epoch  16 Batch   24/61   train_loss = 0.965\n",
      "Epoch  16 Batch   49/61   train_loss = 0.948\n",
      "Epoch  17 Batch   13/61   train_loss = 0.823\n",
      "Epoch  17 Batch   38/61   train_loss = 0.699\n",
      "Epoch  18 Batch    2/61   train_loss = 0.597\n",
      "Epoch  18 Batch   27/61   train_loss = 0.570\n",
      "Epoch  18 Batch   52/61   train_loss = 0.618\n",
      "Epoch  19 Batch   16/61   train_loss = 0.500\n",
      "Epoch  19 Batch   41/61   train_loss = 0.488\n",
      "Epoch  20 Batch    5/61   train_loss = 0.439\n",
      "Epoch  20 Batch   30/61   train_loss = 0.392\n",
      "Epoch  20 Batch   55/61   train_loss = 0.401\n",
      "Epoch  21 Batch   19/61   train_loss = 0.348\n",
      "Epoch  21 Batch   44/61   train_loss = 0.350\n",
      "Epoch  22 Batch    8/61   train_loss = 0.331\n",
      "Epoch  22 Batch   33/61   train_loss = 0.345\n",
      "Epoch  22 Batch   58/61   train_loss = 0.318\n",
      "Epoch  23 Batch   22/61   train_loss = 0.326\n",
      "Epoch  23 Batch   47/61   train_loss = 0.252\n",
      "Epoch  24 Batch   11/61   train_loss = 0.270\n",
      "Epoch  24 Batch   36/61   train_loss = 0.243\n",
      "Epoch  25 Batch    0/61   train_loss = 0.287\n",
      "Epoch  25 Batch   25/61   train_loss = 0.269\n",
      "Epoch  25 Batch   50/61   train_loss = 0.266\n",
      "Epoch  26 Batch   14/61   train_loss = 0.274\n",
      "Epoch  26 Batch   39/61   train_loss = 0.257\n",
      "Epoch  27 Batch    3/61   train_loss = 0.279\n",
      "Epoch  27 Batch   28/61   train_loss = 0.294\n",
      "Epoch  27 Batch   53/61   train_loss = 0.269\n",
      "Epoch  28 Batch   17/61   train_loss = 0.227\n",
      "Epoch  28 Batch   42/61   train_loss = 0.217\n",
      "Epoch  29 Batch    6/61   train_loss = 0.269\n",
      "Epoch  29 Batch   31/61   train_loss = 0.288\n",
      "Epoch  29 Batch   56/61   train_loss = 0.264\n",
      "Epoch  30 Batch   20/61   train_loss = 0.272\n",
      "Epoch  30 Batch   45/61   train_loss = 0.281\n",
      "Epoch  31 Batch    9/61   train_loss = 0.238\n",
      "Epoch  31 Batch   34/61   train_loss = 0.228\n",
      "Epoch  31 Batch   59/61   train_loss = 0.290\n",
      "Epoch  32 Batch   23/61   train_loss = 0.242\n",
      "Epoch  32 Batch   48/61   train_loss = 0.279\n",
      "Epoch  33 Batch   12/61   train_loss = 0.252\n",
      "Epoch  33 Batch   37/61   train_loss = 0.275\n",
      "Epoch  34 Batch    1/61   train_loss = 0.234\n",
      "Epoch  34 Batch   26/61   train_loss = 0.211\n",
      "Epoch  34 Batch   51/61   train_loss = 0.270\n",
      "Epoch  35 Batch   15/61   train_loss = 0.238\n",
      "Epoch  35 Batch   40/61   train_loss = 0.243\n",
      "Epoch  36 Batch    4/61   train_loss = 0.233\n",
      "Epoch  36 Batch   29/61   train_loss = 0.269\n",
      "Epoch  36 Batch   54/61   train_loss = 0.266\n",
      "Epoch  37 Batch   18/61   train_loss = 0.238\n",
      "Epoch  37 Batch   43/61   train_loss = 0.229\n",
      "Epoch  38 Batch    7/61   train_loss = 0.252\n",
      "Epoch  38 Batch   32/61   train_loss = 0.268\n",
      "Epoch  38 Batch   57/61   train_loss = 0.255\n",
      "Epoch  39 Batch   21/61   train_loss = 0.219\n",
      "Epoch  39 Batch   46/61   train_loss = 0.239\n",
      "Epoch  40 Batch   10/61   train_loss = 0.240\n",
      "Epoch  40 Batch   35/61   train_loss = 0.247\n",
      "Epoch  40 Batch   60/61   train_loss = 0.239\n",
      "Epoch  41 Batch   24/61   train_loss = 0.272\n",
      "Epoch  41 Batch   49/61   train_loss = 0.276\n",
      "Epoch  42 Batch   13/61   train_loss = 0.247\n",
      "Epoch  42 Batch   38/61   train_loss = 0.231\n",
      "Epoch  43 Batch    2/61   train_loss = 0.236\n",
      "Epoch  43 Batch   27/61   train_loss = 0.231\n",
      "Epoch  43 Batch   52/61   train_loss = 0.263\n",
      "Epoch  44 Batch   16/61   train_loss = 0.233\n",
      "Epoch  44 Batch   41/61   train_loss = 0.277\n",
      "Epoch  45 Batch    5/61   train_loss = 0.227\n",
      "Epoch  45 Batch   30/61   train_loss = 0.235\n",
      "Epoch  45 Batch   55/61   train_loss = 0.247\n",
      "Epoch  46 Batch   19/61   train_loss = 0.238\n",
      "Epoch  46 Batch   44/61   train_loss = 0.256\n",
      "Epoch  47 Batch    8/61   train_loss = 0.237\n",
      "Epoch  47 Batch   33/61   train_loss = 0.264\n",
      "Epoch  47 Batch   58/61   train_loss = 0.250\n",
      "Epoch  48 Batch   22/61   train_loss = 0.269\n",
      "Epoch  48 Batch   47/61   train_loss = 0.206\n",
      "Epoch  49 Batch   11/61   train_loss = 0.228\n",
      "Epoch  49 Batch   36/61   train_loss = 0.216\n",
      "Epoch  50 Batch    0/61   train_loss = 0.259\n",
      "Epoch  50 Batch   25/61   train_loss = 0.241\n",
      "Epoch  50 Batch   50/61   train_loss = 0.244\n",
      "Epoch  51 Batch   14/61   train_loss = 0.247\n",
      "Epoch  51 Batch   39/61   train_loss = 0.237\n",
      "Epoch  52 Batch    3/61   train_loss = 0.261\n",
      "Epoch  52 Batch   28/61   train_loss = 0.276\n",
      "Epoch  52 Batch   53/61   train_loss = 0.252\n",
      "Epoch  53 Batch   17/61   train_loss = 0.211\n",
      "Epoch  53 Batch   42/61   train_loss = 0.203\n",
      "Epoch  54 Batch    6/61   train_loss = 0.255\n",
      "Epoch  54 Batch   31/61   train_loss = 0.271\n",
      "Epoch  54 Batch   56/61   train_loss = 0.247\n",
      "Epoch  55 Batch   20/61   train_loss = 0.262\n",
      "Epoch  55 Batch   45/61   train_loss = 0.261\n",
      "Epoch  56 Batch    9/61   train_loss = 0.225\n",
      "Epoch  56 Batch   34/61   train_loss = 0.223\n",
      "Epoch  56 Batch   59/61   train_loss = 0.280\n",
      "Epoch  57 Batch   23/61   train_loss = 0.238\n",
      "Epoch  57 Batch   48/61   train_loss = 0.263\n",
      "Epoch  58 Batch   12/61   train_loss = 0.244\n",
      "Epoch  58 Batch   37/61   train_loss = 0.259\n",
      "Epoch  59 Batch    1/61   train_loss = 0.223\n",
      "Epoch  59 Batch   26/61   train_loss = 0.204\n",
      "Epoch  59 Batch   51/61   train_loss = 0.261\n",
      "Epoch  60 Batch   15/61   train_loss = 0.230\n",
      "Epoch  60 Batch   40/61   train_loss = 0.230\n",
      "Epoch  61 Batch    4/61   train_loss = 0.225\n",
      "Epoch  61 Batch   29/61   train_loss = 0.255\n",
      "Epoch  61 Batch   54/61   train_loss = 0.255\n",
      "Epoch  62 Batch   18/61   train_loss = 0.226\n",
      "Epoch  62 Batch   43/61   train_loss = 0.214\n",
      "Epoch  63 Batch    7/61   train_loss = 0.243\n",
      "Epoch  63 Batch   32/61   train_loss = 0.260\n",
      "Epoch  63 Batch   57/61   train_loss = 0.249\n",
      "Epoch  64 Batch   21/61   train_loss = 0.213\n",
      "Epoch  64 Batch   46/61   train_loss = 0.233\n",
      "Epoch  65 Batch   10/61   train_loss = 0.236\n",
      "Epoch  65 Batch   35/61   train_loss = 0.244\n",
      "Epoch  65 Batch   60/61   train_loss = 0.232\n",
      "Epoch  66 Batch   24/61   train_loss = 0.264\n",
      "Epoch  66 Batch   49/61   train_loss = 0.270\n",
      "Epoch  67 Batch   13/61   train_loss = 0.240\n",
      "Epoch  67 Batch   38/61   train_loss = 0.223\n",
      "Epoch  68 Batch    2/61   train_loss = 0.227\n",
      "Epoch  68 Batch   27/61   train_loss = 0.225\n",
      "Epoch  68 Batch   52/61   train_loss = 0.260\n",
      "Epoch  69 Batch   16/61   train_loss = 0.230\n",
      "Epoch  69 Batch   41/61   train_loss = 0.274\n",
      "Epoch  70 Batch    5/61   train_loss = 0.222\n",
      "Epoch  70 Batch   30/61   train_loss = 0.228\n",
      "Epoch  70 Batch   55/61   train_loss = 0.239\n",
      "Epoch  71 Batch   19/61   train_loss = 0.227\n",
      "Epoch  71 Batch   44/61   train_loss = 0.244\n",
      "Epoch  72 Batch    8/61   train_loss = 0.231\n",
      "Epoch  72 Batch   33/61   train_loss = 0.257\n",
      "Epoch  72 Batch   58/61   train_loss = 0.243\n",
      "Epoch  73 Batch   22/61   train_loss = 0.260\n",
      "Epoch  73 Batch   47/61   train_loss = 0.202\n",
      "Epoch  74 Batch   11/61   train_loss = 0.224\n",
      "Epoch  74 Batch   36/61   train_loss = 0.211\n",
      "Epoch  75 Batch    0/61   train_loss = 0.251\n",
      "Epoch  75 Batch   25/61   train_loss = 0.234\n",
      "Epoch  75 Batch   50/61   train_loss = 0.240\n",
      "Epoch  76 Batch   14/61   train_loss = 0.242\n",
      "Epoch  76 Batch   39/61   train_loss = 0.232\n",
      "Epoch  77 Batch    3/61   train_loss = 0.254\n",
      "Epoch  77 Batch   28/61   train_loss = 0.268\n",
      "Epoch  77 Batch   53/61   train_loss = 0.245\n",
      "Epoch  78 Batch   17/61   train_loss = 0.208\n",
      "Epoch  78 Batch   42/61   train_loss = 0.198\n",
      "Epoch  79 Batch    6/61   train_loss = 0.251\n",
      "Epoch  79 Batch   31/61   train_loss = 0.269\n",
      "Epoch  79 Batch   56/61   train_loss = 0.243\n",
      "Epoch  80 Batch   20/61   train_loss = 0.254\n",
      "Epoch  80 Batch   45/61   train_loss = 0.257\n",
      "Epoch  81 Batch    9/61   train_loss = 0.222\n",
      "Epoch  81 Batch   34/61   train_loss = 0.214\n",
      "Epoch  81 Batch   59/61   train_loss = 0.274\n",
      "Epoch  82 Batch   23/61   train_loss = 0.231\n",
      "Epoch  82 Batch   48/61   train_loss = 0.262\n",
      "Epoch  83 Batch   12/61   train_loss = 0.237\n",
      "Epoch  83 Batch   37/61   train_loss = 0.256\n",
      "Epoch  84 Batch    1/61   train_loss = 0.216\n",
      "Epoch  84 Batch   26/61   train_loss = 0.199\n",
      "Epoch  84 Batch   51/61   train_loss = 0.255\n",
      "Epoch  85 Batch   15/61   train_loss = 0.226\n",
      "Epoch  85 Batch   40/61   train_loss = 0.226\n",
      "Epoch  86 Batch    4/61   train_loss = 0.218\n",
      "Epoch  86 Batch   29/61   train_loss = 0.252\n",
      "Epoch  86 Batch   54/61   train_loss = 0.251\n",
      "Epoch  87 Batch   18/61   train_loss = 0.223\n",
      "Epoch  87 Batch   43/61   train_loss = 0.213\n",
      "Epoch  88 Batch    7/61   train_loss = 0.240\n",
      "Epoch  88 Batch   32/61   train_loss = 0.255\n",
      "Epoch  88 Batch   57/61   train_loss = 0.244\n",
      "Epoch  89 Batch   21/61   train_loss = 0.211\n",
      "Epoch  89 Batch   46/61   train_loss = 0.831\n",
      "Epoch  90 Batch   10/61   train_loss = 3.248\n",
      "Epoch  90 Batch   35/61   train_loss = 3.616\n",
      "Epoch  90 Batch   60/61   train_loss = 2.752\n",
      "Epoch  91 Batch   24/61   train_loss = 2.609\n",
      "Epoch  91 Batch   49/61   train_loss = 2.277\n",
      "Epoch  92 Batch   13/61   train_loss = 1.937\n",
      "Epoch  92 Batch   38/61   train_loss = 1.920\n",
      "Epoch  93 Batch    2/61   train_loss = 1.480\n",
      "Epoch  93 Batch   27/61   train_loss = 1.368\n",
      "Epoch  93 Batch   52/61   train_loss = 1.286\n",
      "Epoch  94 Batch   16/61   train_loss = 1.145\n",
      "Epoch  94 Batch   41/61   train_loss = 1.031\n",
      "Epoch  95 Batch    5/61   train_loss = 0.907\n",
      "Epoch  95 Batch   30/61   train_loss = 0.822\n",
      "Epoch  95 Batch   55/61   train_loss = 0.740\n",
      "Epoch  96 Batch   19/61   train_loss = 0.604\n",
      "Epoch  96 Batch   44/61   train_loss = 0.524\n",
      "Epoch  97 Batch    8/61   train_loss = 0.502\n",
      "Epoch  97 Batch   33/61   train_loss = 0.495\n",
      "Epoch  97 Batch   58/61   train_loss = 0.446\n",
      "Epoch  98 Batch   22/61   train_loss = 0.397\n",
      "Epoch  98 Batch   47/61   train_loss = 0.301\n",
      "Epoch  99 Batch   11/61   train_loss = 0.308\n",
      "Epoch  99 Batch   36/61   train_loss = 0.263\n",
      "Model Trained and Saved\n"
     ]
    }
   ],
   "source": [
    "\"\"\"\n",
    "DON'T MODIFY ANYTHING IN THIS CELL\n",
    "\"\"\"\n",
    "batches = get_batches(int_text, batch_size, seq_length)\n",
    "\n",
    "with tf.Session(graph=train_graph) as sess:\n",
    "    sess.run(tf.global_variables_initializer())\n",
    "\n",
    "    for epoch_i in range(num_epochs):\n",
    "        state = sess.run(initial_state, {input_text: batches[0][0]})\n",
    "\n",
    "        for batch_i, (x, y) in enumerate(batches):\n",
    "            feed = {\n",
    "                input_text: x,\n",
    "                targets: y,\n",
    "                initial_state: state,\n",
    "                lr: learning_rate}\n",
    "            train_loss, state, _ = sess.run([cost, final_state, train_op], feed)\n",
    "\n",
    "            # Show every <show_every_n_batches> batches\n",
    "            if (epoch_i * len(batches) + batch_i) % show_every_n_batches == 0:\n",
    "                print('Epoch {:>3} Batch {:>4}/{}   train_loss = {:.3f}'.format(\n",
    "                    epoch_i,\n",
    "                    batch_i,\n",
    "                    len(batches),\n",
    "                    train_loss))\n",
    "\n",
    "    # Save Model\n",
    "    saver = tf.train.Saver()\n",
    "    saver.save(sess, save_dir)\n",
    "    print('Model Trained and Saved')"
   ]
  },
  {
   "cell_type": "markdown",
   "metadata": {
    "deletable": true,
    "editable": true
   },
   "source": [
    "## Save Parameters\n",
    "Save `seq_length` and `save_dir` for generating a new TV script."
   ]
  },
  {
   "cell_type": "code",
   "execution_count": 100,
   "metadata": {
    "collapsed": false,
    "deletable": true,
    "editable": true
   },
   "outputs": [],
   "source": [
    "\"\"\"\n",
    "DON'T MODIFY ANYTHING IN THIS CELL\n",
    "\"\"\"\n",
    "# Save parameters for checkpoint\n",
    "helper.save_params((seq_length, save_dir))"
   ]
  },
  {
   "cell_type": "markdown",
   "metadata": {
    "deletable": true,
    "editable": true
   },
   "source": [
    "# Checkpoint"
   ]
  },
  {
   "cell_type": "code",
   "execution_count": 101,
   "metadata": {
    "collapsed": false,
    "deletable": true,
    "editable": true
   },
   "outputs": [],
   "source": [
    "\"\"\"\n",
    "DON'T MODIFY ANYTHING IN THIS CELL\n",
    "\"\"\"\n",
    "import tensorflow as tf\n",
    "import numpy as np\n",
    "import helper\n",
    "import problem_unittests as tests\n",
    "\n",
    "_, vocab_to_int, int_to_vocab, token_dict = helper.load_preprocess()\n",
    "seq_length, load_dir = helper.load_params()"
   ]
  },
  {
   "cell_type": "markdown",
   "metadata": {
    "deletable": true,
    "editable": true
   },
   "source": [
    "## Implement Generate Functions\n",
    "### Get Tensors\n",
    "Get tensors from `loaded_graph` using the function [`get_tensor_by_name()`](https://www.tensorflow.org/api_docs/python/tf/Graph#get_tensor_by_name).  Get the tensors using the following names:\n",
    "- \"input:0\"\n",
    "- \"initial_state:0\"\n",
    "- \"final_state:0\"\n",
    "- \"probs:0\"\n",
    "\n",
    "Return the tensors in the following tuple `(InputTensor, InitialStateTensor, FinalStateTensor, ProbsTensor)` "
   ]
  },
  {
   "cell_type": "code",
   "execution_count": 102,
   "metadata": {
    "collapsed": false,
    "deletable": true,
    "editable": true
   },
   "outputs": [
    {
     "name": "stdout",
     "output_type": "stream",
     "text": [
      "Tests Passed\n"
     ]
    }
   ],
   "source": [
    "def get_tensors(loaded_graph):\n",
    "    \"\"\"\n",
    "    Get input, initial state, final state, and probabilities tensor from <loaded_graph>\n",
    "    :param loaded_graph: TensorFlow graph loaded from file\n",
    "    :return: Tuple (InputTensor, InitialStateTensor, FinalStateTensor, ProbsTensor)\n",
    "    \"\"\"\n",
    "    input_tensor = loaded_graph.get_tensor_by_name('input:0')\n",
    "    init_state_tensor = loaded_graph.get_tensor_by_name('initial_state:0')\n",
    "    final_state_tensor = loaded_graph.get_tensor_by_name('final_state:0')\n",
    "    probs_tensor = loaded_graph.get_tensor_by_name('probs:0')\n",
    "    return input_tensor, init_state_tensor, final_state_tensor, probs_tensor\n",
    "\n",
    "\n",
    "\"\"\"\n",
    "DON'T MODIFY ANYTHING IN THIS CELL THAT IS BELOW THIS LINE\n",
    "\"\"\"\n",
    "tests.test_get_tensors(get_tensors)"
   ]
  },
  {
   "cell_type": "markdown",
   "metadata": {
    "deletable": true,
    "editable": true
   },
   "source": [
    "### Choose Word\n",
    "Implement the `pick_word()` function to select the next word using `probabilities`."
   ]
  },
  {
   "cell_type": "code",
   "execution_count": 103,
   "metadata": {
    "collapsed": false,
    "deletable": true,
    "editable": true,
    "scrolled": true
   },
   "outputs": [
    {
     "name": "stdout",
     "output_type": "stream",
     "text": [
      "Tests Passed\n"
     ]
    }
   ],
   "source": [
    "def weighted_choice(choices):\n",
    "    \"\"\"\n",
    "    Cribbed from http://stackoverflow.com/questions/3679694/a-weighted-version-of-random-choice\n",
    "    \"\"\"\n",
    "    total = sum(w for c, w in choices)\n",
    "    r = random.uniform(0, total)\n",
    "    upto = 0\n",
    "    for c, w in choices:\n",
    "        if upto + w >= r:\n",
    "            return c\n",
    "        upto += w\n",
    "    assert False, \"Shouldn't get here\"\n",
    "\n",
    "def pick_word(probabilities, int_to_vocab, top_n=5):\n",
    "    \"\"\"\n",
    "    Pick the next word in the generated text\n",
    "    :param probabilities: Probabilites of the next word\n",
    "    :param int_to_vocab: Dictionary of word ids as the keys and words as the values\n",
    "    :return: String of the predicted word\n",
    "    \"\"\"\n",
    "    #print('Num probs: {}'.format(len(probabilities)))\n",
    "\n",
    "    top_n_choices = []\n",
    "    for i in range(min(len(probabilities), top_n)):\n",
    "        max_idx = np.argmax(probabilities)\n",
    "        top_n_choices.append((max_idx, probabilities[max_idx]))\n",
    "        probabilities.itemset(max_idx, 0)\n",
    "\n",
    "    #print('Top {} highest indexes: {}'.format(top_n, top_n_choices))\n",
    "\n",
    "    word_idx = weighted_choice(top_n_choices)\n",
    "    word = int_to_vocab[word_idx]\n",
    "    #print('Chosen word: {} (idx: {})'.format(word_idx, word))\n",
    "    return word\n",
    "\n",
    "    #highest_prob_idx = np.squeeze(np.argwhere(probabilities == np.max(probabilities)))\n",
    "    #word_idx = np.random.choice(highest_prob_idx)\n",
    "    #word = int_to_vocab[word_idx]\n",
    "    #return word\n",
    "\n",
    "\n",
    "\"\"\"\n",
    "DON'T MODIFY ANYTHING IN THIS CELL THAT IS BELOW THIS LINE\n",
    "\"\"\"\n",
    "tests.test_pick_word(pick_word)"
   ]
  },
  {
   "cell_type": "markdown",
   "metadata": {
    "deletable": true,
    "editable": true
   },
   "source": [
    "## Generate TV Script\n",
    "This will generate the TV script for you.  Set `gen_length` to the length of TV script you want to generate."
   ]
  },
  {
   "cell_type": "code",
   "execution_count": 104,
   "metadata": {
    "collapsed": false,
    "deletable": true,
    "editable": true,
    "scrolled": true
   },
   "outputs": [
    {
     "name": "stdout",
     "output_type": "stream",
     "text": [
      "moe_szyslak: oh, so you're looking for a mr. smithers, eh? first name, waylon is a sign.\"(beat) you and, uh, i know, boxing.\n",
      "marge_simpson:(anguished scream) my fresco! that's the same man group!\n",
      "homer_simpson:(gasp) what me?\n",
      "lenny_leonard: that's the best ma a hundred and water?\n",
      "homer_simpson:(proudly) yes indeedy.\n",
      "lenny_leonard: hey, what are you doin'? i still got plenty of here!(worried) somebody, i can--\n",
      "moe_szyslak:(dismissive sobs) oh, what a creature would i know? that was the kind of booze.\n",
      "\n",
      "\n",
      "homer_simpson:(to homer) we won't play the other fight.\n",
      "carl_carlson: you wouldn't serve with a girl a money? this place is barney?\n",
      "moe_szyslak: i can't close down the back, but not not across the money.\n",
      "chief_wiggum: well don't give that back.\n",
      "moe_szyslak:(to harv) oh sorry, moe. i'm a pig.\n",
      "homer_simpson: uh, you should not\n"
     ]
    }
   ],
   "source": [
    "gen_length = 200\n",
    "# homer_simpson, moe_szyslak, or Barney_Gumble\n",
    "prime_word = 'moe_szyslak'\n",
    "\n",
    "\"\"\"\n",
    "DON'T MODIFY ANYTHING IN THIS CELL THAT IS BELOW THIS LINE\n",
    "\"\"\"\n",
    "loaded_graph = tf.Graph()\n",
    "with tf.Session(graph=loaded_graph) as sess:\n",
    "    # Load saved model\n",
    "    loader = tf.train.import_meta_graph(load_dir + '.meta')\n",
    "    loader.restore(sess, load_dir)\n",
    "\n",
    "    # Get Tensors from loaded model\n",
    "    input_text, initial_state, final_state, probs = get_tensors(loaded_graph)\n",
    "\n",
    "    # Sentences generation setup\n",
    "    gen_sentences = [prime_word + ':']\n",
    "    prev_state = sess.run(initial_state, {input_text: np.array([[1]])})\n",
    "\n",
    "    # Generate sentences\n",
    "    for n in range(gen_length):\n",
    "        # Dynamic Input\n",
    "        dyn_input = [[vocab_to_int[word] for word in gen_sentences[-seq_length:]]]\n",
    "        dyn_seq_length = len(dyn_input[0])\n",
    "\n",
    "        # Get Prediction\n",
    "        probabilities, prev_state = sess.run(\n",
    "            [probs, final_state],\n",
    "            {input_text: dyn_input, initial_state: prev_state})\n",
    "        \n",
    "        pred_word = pick_word(probabilities[dyn_seq_length-1], int_to_vocab)\n",
    "\n",
    "        gen_sentences.append(pred_word)\n",
    "\n",
    "    # Remove tokens\n",
    "    tv_script = ' '.join(gen_sentences)\n",
    "    for key, token in token_dict.items():\n",
    "        ending = ' ' if key in ['\\n', '(', '\"'] else ''\n",
    "        tv_script = tv_script.replace(' ' + token.lower(), key)\n",
    "    tv_script = tv_script.replace('\\n ', '\\n')\n",
    "    tv_script = tv_script.replace('( ', '(')\n",
    "\n",
    "    print(tv_script)"
   ]
  },
  {
   "cell_type": "markdown",
   "metadata": {
    "deletable": true,
    "editable": true
   },
   "source": [
    "# The TV Script is Nonsensical\n",
    "It's ok if the TV script doesn't make any sense.  We trained on less than a megabyte of text.  In order to get good results, you'll have to use a smaller vocabulary or get more data.  Luckly there's more data!  As we mentioned in the begging of this project, this is a subset of [another dataset](https://www.kaggle.com/wcukierski/the-simpsons-by-the-data).  We didn't have you train on all the data, because that would take too long.  However, you are free to train your neural network on all the data.  After you complete the project, of course.\n",
    "# Submitting This Project\n",
    "When submitting this project, make sure to run all the cells before saving the notebook. Save the notebook file as \"dlnd_tv_script_generation.ipynb\" and save it as a HTML file under \"File\" -> \"Download as\". Include the \"helper.py\" and \"problem_unittests.py\" files in your submission."
   ]
  }
 ],
 "metadata": {
  "anaconda-cloud": {},
  "kernelspec": {
   "display_name": "Python [default]",
   "language": "python",
   "name": "python3"
  },
  "language_info": {
   "codemirror_mode": {
    "name": "ipython",
    "version": 3
   },
   "file_extension": ".py",
   "mimetype": "text/x-python",
   "name": "python",
   "nbconvert_exporter": "python",
   "pygments_lexer": "ipython3",
   "version": "3.5.3"
  }
 },
 "nbformat": 4,
 "nbformat_minor": 0
}
